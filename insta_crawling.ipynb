{
 "cells": [
  {
   "cell_type": "code",
   "execution_count": 1,
   "id": "d0f33051",
   "metadata": {},
   "outputs": [
    {
     "name": "stderr",
     "output_type": "stream",
     "text": [
      "WARNING: You are using pip version 22.0.3; however, version 22.0.4 is available.\n",
      "You should consider upgrading via the 'C:\\Users\\revol\\anaconda3\\python.exe -m pip install --upgrade pip' command.\n"
     ]
    },
    {
     "name": "stdout",
     "output_type": "stream",
     "text": [
      "Requirement already satisfied: selenium in c:\\users\\revol\\anaconda3\\lib\\site-packages (4.1.2)\n",
      "Requirement already satisfied: trio-websocket~=0.9 in c:\\users\\revol\\anaconda3\\lib\\site-packages (from selenium) (0.9.2)\n",
      "Requirement already satisfied: trio~=0.17 in c:\\users\\revol\\anaconda3\\lib\\site-packages (from selenium) (0.20.0)\n",
      "Requirement already satisfied: urllib3[secure,socks]~=1.26 in c:\\users\\revol\\anaconda3\\lib\\site-packages (from selenium) (1.26.7)\n",
      "Requirement already satisfied: cffi>=1.14 in c:\\users\\revol\\anaconda3\\lib\\site-packages (from trio~=0.17->selenium) (1.14.6)\n",
      "Requirement already satisfied: async-generator>=1.9 in c:\\users\\revol\\anaconda3\\lib\\site-packages (from trio~=0.17->selenium) (1.10)\n",
      "Requirement already satisfied: idna in c:\\users\\revol\\anaconda3\\lib\\site-packages (from trio~=0.17->selenium) (3.2)\n",
      "Requirement already satisfied: sortedcontainers in c:\\users\\revol\\anaconda3\\lib\\site-packages (from trio~=0.17->selenium) (2.4.0)\n",
      "Requirement already satisfied: sniffio in c:\\users\\revol\\anaconda3\\lib\\site-packages (from trio~=0.17->selenium) (1.2.0)\n",
      "Requirement already satisfied: attrs>=19.2.0 in c:\\users\\revol\\anaconda3\\lib\\site-packages (from trio~=0.17->selenium) (21.2.0)\n",
      "Requirement already satisfied: outcome in c:\\users\\revol\\anaconda3\\lib\\site-packages (from trio~=0.17->selenium) (1.1.0)\n",
      "Requirement already satisfied: wsproto>=0.14 in c:\\users\\revol\\anaconda3\\lib\\site-packages (from trio-websocket~=0.9->selenium) (1.1.0)\n",
      "Requirement already satisfied: pyOpenSSL>=0.14 in c:\\users\\revol\\anaconda3\\lib\\site-packages (from urllib3[secure,socks]~=1.26->selenium) (21.0.0)\n",
      "Requirement already satisfied: cryptography>=1.3.4 in c:\\users\\revol\\anaconda3\\lib\\site-packages (from urllib3[secure,socks]~=1.26->selenium) (3.4.8)\n",
      "Requirement already satisfied: certifi in c:\\users\\revol\\anaconda3\\lib\\site-packages (from urllib3[secure,socks]~=1.26->selenium) (2021.10.8)\n",
      "Requirement already satisfied: PySocks!=1.5.7,<2.0,>=1.5.6 in c:\\users\\revol\\anaconda3\\lib\\site-packages (from urllib3[secure,socks]~=1.26->selenium) (1.7.1)\n",
      "Requirement already satisfied: pycparser in c:\\users\\revol\\anaconda3\\lib\\site-packages (from cffi>=1.14->trio~=0.17->selenium) (2.20)\n",
      "Requirement already satisfied: six>=1.5.2 in c:\\users\\revol\\anaconda3\\lib\\site-packages (from pyOpenSSL>=0.14->urllib3[secure,socks]~=1.26->selenium) (1.16.0)\n",
      "Requirement already satisfied: h11<1,>=0.9.0 in c:\\users\\revol\\anaconda3\\lib\\site-packages (from wsproto>=0.14->trio-websocket~=0.9->selenium) (0.13.0)\n"
     ]
    }
   ],
   "source": [
    "!pip install selenium"
   ]
  },
  {
   "cell_type": "code",
   "execution_count": 1,
   "id": "a04d8b71",
   "metadata": {},
   "outputs": [
    {
     "name": "stderr",
     "output_type": "stream",
     "text": [
      "C:\\Users\\revol\\AppData\\Local\\Temp/ipykernel_67800/3274583264.py:2: DeprecationWarning: executable_path has been deprecated, please pass in a Service object\n",
      "  driver = wd.Chrome(executable_path = \"chromedriver.exe\")\n"
     ]
    }
   ],
   "source": [
    "from selenium import webdriver as wd\n",
    "driver = wd.Chrome(executable_path = \"chromedriver.exe\")\n",
    "url = \"https://www.naver.com\"\n",
    "driver.get(url)"
   ]
  },
  {
   "cell_type": "code",
   "execution_count": 2,
   "id": "3fa0a6a5",
   "metadata": {},
   "outputs": [],
   "source": [
    "from selenium import webdriver\n",
    "from selenium.webdriver.common.by import By \n",
    "from selenium.webdriver.support.ui import WebDriverWait \n",
    "from selenium.webdriver.support import expected_conditions as EC\n",
    "from bs4 import BeautifulSoup\n",
    "from selenium.webdriver.common.keys import Keys\n",
    "import time \n",
    "import re \n",
    "import json \n",
    "import pandas as pd"
   ]
  },
  {
   "cell_type": "markdown",
   "id": "87023d6e",
   "metadata": {},
   "source": [
    "## id 와 password 입력"
   ]
  },
  {
   "cell_type": "code",
   "execution_count": 3,
   "id": "d60ac612",
   "metadata": {},
   "outputs": [],
   "source": [
    "user_id=\"kisu875@naver.com\"\n",
    "user_passwd=\"rlarltn6062\" "
   ]
  },
  {
   "cell_type": "code",
   "execution_count": 4,
   "id": "45bce548",
   "metadata": {},
   "outputs": [
    {
     "name": "stderr",
     "output_type": "stream",
     "text": [
      "C:\\Users\\revol\\AppData\\Local\\Temp/ipykernel_67800/623421370.py:16: DeprecationWarning: executable_path has been deprecated, please pass in a Service object\n",
      "  driver = webdriver.Chrome(\"./chromedriver\")\n"
     ]
    }
   ],
   "source": [
    "login_option=\"instagram\" # facebook or instagram \n",
    "driver_path=\"chromedriver.exe\" \n",
    "instagram_id_name=\"username\" \n",
    "instagram_pw_name=\"password\"\n",
    "instagram_login_btn=\".sqdOP.L3NKy.y3zKF \"\n",
    "instagram_information_save_name = \".sqdOP.yWX7d.y3zKF\"\n",
    "instagram_alarm_name = \".aOOlW.HoLwm\"\n",
    "is_information_save = False\n",
    "is_alarm_setting = False\n",
    "\n",
    "facebook_login_page_css=\".sqdOP.L3NKy.y3zKF \"\n",
    "facebook_login_page_css2=\".sqdOP.yWX7d.y3zKF \"\n",
    "facebook_id_form_name=\"email\"\n",
    "facebook_pw_form_name=\"pass\"\n",
    "facebook_login_btn_name=\"login\"\n",
    "driver = webdriver.Chrome(\"./chromedriver\")"
   ]
  },
  {
   "cell_type": "code",
   "execution_count": 5,
   "id": "7a24867e",
   "metadata": {},
   "outputs": [
    {
     "name": "stdout",
     "output_type": "stream",
     "text": [
      "login start - option instagram\n",
      "instagram\n"
     ]
    }
   ],
   "source": [
    "print(f\"login start - option {login_option}\")\n",
    "login_url = \"https://www.instagram.com/accounts/login/\"\n",
    "driver.get(login_url)\n",
    "print(login_option)"
   ]
  },
  {
   "cell_type": "code",
   "execution_count": 6,
   "id": "fe16fdc3",
   "metadata": {},
   "outputs": [
    {
     "name": "stderr",
     "output_type": "stream",
     "text": [
      "C:\\Users\\revol\\AppData\\Local\\Temp/ipykernel_67800/341151658.py:3: DeprecationWarning: find_element_by_name is deprecated. Please use find_element(by=By.NAME, value=name) instead\n",
      "  instagram_id_form = driver.find_element_by_name(instagram_id_name)\n",
      "C:\\Users\\revol\\AppData\\Local\\Temp/ipykernel_67800/341151658.py:7: DeprecationWarning: find_element_by_name is deprecated. Please use find_element(by=By.NAME, value=name) instead\n",
      "  instagram_pw_form = driver.find_element_by_name(instagram_pw_name)\n",
      "C:\\Users\\revol\\AppData\\Local\\Temp/ipykernel_67800/341151658.py:11: DeprecationWarning: find_element_by_css_selector is deprecated. Please use find_element(by=By.CSS_SELECTOR, value=css_selector) instead\n",
      "  login_ok_button = driver.find_element_by_css_selector(instagram_login_btn)\n",
      "C:\\Users\\revol\\AppData\\Local\\Temp/ipykernel_67800/341151658.py:17: DeprecationWarning: find_element_by_css_selector is deprecated. Please use find_element(by=By.CSS_SELECTOR, value=css_selector) instead\n",
      "  information_save_btn = driver.find_element_by_css_selector(instagram_information_save_name)\n",
      "C:\\Users\\revol\\AppData\\Local\\Temp/ipykernel_67800/341151658.py:21: DeprecationWarning: find_element_by_css_selector is deprecated. Please use find_element(by=By.CSS_SELECTOR, value=css_selector) instead\n",
      "  alarm_setting_btn = driver.find_element_by_css_selector(instagram_alarm_name)\n"
     ]
    }
   ],
   "source": [
    "if login_option == \"instagram\": \n",
    "    try: \n",
    "        instagram_id_form = driver.find_element_by_name(instagram_id_name) \n",
    "        instagram_id_form.send_keys(user_id) \n",
    "        time.sleep(5)\n",
    "        \n",
    "        instagram_pw_form = driver.find_element_by_name(instagram_pw_name) \n",
    "        instagram_pw_form.send_keys(user_passwd) \n",
    "        time.sleep(7)\n",
    "        \n",
    "        login_ok_button = driver.find_element_by_css_selector(instagram_login_btn) \n",
    "        login_ok_button.click() \n",
    "        is_login_success = True\n",
    "        \n",
    "        time.sleep(3)\n",
    "        if is_information_save == False and is_alarm_setting == False:\n",
    "            information_save_btn = driver.find_element_by_css_selector(instagram_information_save_name)\n",
    "            information_save_btn.click()\n",
    "            is_information_save = True\n",
    "            \n",
    "            alarm_setting_btn = driver.find_element_by_css_selector(instagram_alarm_name)\n",
    "            alarm_setting_btn.click()\n",
    "            is_alarm_setting = True\n",
    "            \n",
    "    except: \n",
    "        print(\"instagram login fail\") \n",
    "        is_login_success = False\n",
    "\n",
    "elif login_option == \"facebook\" :\n",
    "    is_facebook_btn_click=False\n",
    "    \n",
    "    try :\n",
    "        print(\"try click facebook login button 1\")\n",
    "        facebook_login_btn = driver.find_element_by_css_selector(facebook_login_page_css)\n",
    "        time.sleep(2)\n",
    "        facebook_login_btn.click()\n",
    "        is_facebook_btn_click = True\n",
    "        is_login_success = True \n",
    "    except: \n",
    "        print(\"click facebook login button 1 fail\") \n",
    "        is_facebook_btn_click = False \n",
    "        is_login_success = False \n",
    "        \n",
    "    time.sleep(3) \n",
    "    \n",
    "    if not is_facebook_btn_click: \n",
    "        print(\"try click facebook login button 2\") \n",
    "        try: \n",
    "            facebook_login_btn = driver.find_element_by_css_selector(facebook_login_page_css2) \n",
    "            time.sleep(2) \n",
    "            facebook_login_btn.click() \n",
    "            is_facebook_btn_click = True \n",
    "            is_login_success = True \n",
    "        except: \n",
    "            print(\"click facebook login button 2 fail\") \n",
    "            is_login_success = False \n",
    "            \n",
    "    time.sleep(3)\n",
    "    \n"
   ]
  },
  {
   "cell_type": "markdown",
   "id": "fc9fe3e8",
   "metadata": {},
   "source": [
    "## 위 내용까지 로그인"
   ]
  },
  {
   "cell_type": "code",
   "execution_count": 7,
   "id": "0a54a570",
   "metadata": {},
   "outputs": [
    {
     "name": "stderr",
     "output_type": "stream",
     "text": [
      "C:\\Users\\revol\\AppData\\Local\\Temp/ipykernel_67800/1496847759.py:2: DeprecationWarning: find_element_by_xpath is deprecated. Please use find_element(by=By.XPATH, value=xpath) instead\n",
      "  my_account_button = driver.find_element_by_xpath(my_account_xpath)\n"
     ]
    }
   ],
   "source": [
    "my_account_xpath = \"/html/body/div[1]/div/div/section/nav/div[2]/div/div/div[3]/div/div[6]/span/img\"\n",
    "my_account_button = driver.find_element_by_xpath(my_account_xpath)\n",
    "my_account_button.click()"
   ]
  },
  {
   "cell_type": "code",
   "execution_count": 8,
   "id": "0bb1392c",
   "metadata": {},
   "outputs": [
    {
     "name": "stderr",
     "output_type": "stream",
     "text": [
      "C:\\Users\\revol\\AppData\\Local\\Temp/ipykernel_67800/645744981.py:2: DeprecationWarning: find_element_by_xpath is deprecated. Please use find_element(by=By.XPATH, value=xpath) instead\n",
      "  my_profile_button = driver.find_element_by_xpath(my_profile_xpath)\n"
     ]
    }
   ],
   "source": [
    "my_profile_xpath = \"/html/body/div[1]/div/div/section/nav/div[2]/div/div/div[3]/div/div[6]/div[2]/div[2]/div[2]/a[1]/div/div[2]/div/div/div/div\"\n",
    "my_profile_button = driver.find_element_by_xpath(my_profile_xpath)\n",
    "my_profile_button.click()"
   ]
  },
  {
   "cell_type": "code",
   "execution_count": 9,
   "id": "48722408",
   "metadata": {},
   "outputs": [
    {
     "name": "stdout",
     "output_type": "stream",
     "text": [
      "my_profile_info :  김기수\n",
      "KwangWoon UNIV. Information Convergence(2018.03~)\n",
      "SPLing 45th (2021.08 ~ 2021.12)\n",
      "SPLing 47th (2022.01 ~ )\n",
      "blog.naver.com/kisooofficial\n"
     ]
    },
    {
     "name": "stderr",
     "output_type": "stream",
     "text": [
      "C:\\Users\\revol\\AppData\\Local\\Temp/ipykernel_67800/4238280974.py:2: DeprecationWarning: find_element_by_class_name is deprecated. Please use find_element(by=By.CLASS_NAME, value=name) instead\n",
      "  my_profile_info = driver.find_element_by_class_name(my_profile_information)\n"
     ]
    }
   ],
   "source": [
    "my_profile_information = \"QGPIr\"\n",
    "my_profile_info = driver.find_element_by_class_name(my_profile_information)\n",
    "print(\"my_profile_info : \", my_profile_info.text)"
   ]
  },
  {
   "cell_type": "code",
   "execution_count": null,
   "id": "ea603abc",
   "metadata": {},
   "outputs": [
    {
     "name": "stdout",
     "output_type": "stream",
     "text": [
      "이미 열려 있습니다.\n",
      "------------1번째 게시물은 2021-12-31T12:30:06.000Z에 올라갔습니다.------------\n",
      "-------------------1번째 게시물의 내용은-------------------\n",
      "다사다난했던 2021년\n",
      "내년엔 더 나아지기를\n",
      "#Bye2021#hello2022\n",
      "\n",
      "해시태그는 :   Bye2021 hello2022\n"
     ]
    },
    {
     "name": "stderr",
     "output_type": "stream",
     "text": [
      "C:\\Users\\revol\\AppData\\Local\\Temp/ipykernel_67800/1231858082.py:49: DeprecationWarning: find_element_by_xpath is deprecated. Please use find_element(by=By.XPATH, value=xpath) instead\n",
      "  driver.find_element_by_xpath(button_xpath).click()\n",
      "C:\\Users\\revol\\AppData\\Local\\Temp/ipykernel_67800/1231858082.py:51: DeprecationWarning: find_element_by_class_name is deprecated. Please use find_element(by=By.CLASS_NAME, value=name) instead\n",
      "  button_check = driver.find_element_by_class_name(\"EizgU\").text\n",
      "C:\\Users\\revol\\AppData\\Local\\Temp/ipykernel_67800/1231858082.py:53: DeprecationWarning: find_element_by_xpath is deprecated. Please use find_element(by=By.XPATH, value=xpath) instead\n",
      "  driver.find_element_by_xpath(button_xpath).click()\n",
      "C:\\Users\\revol\\AppData\\Local\\Temp/ipykernel_67800/1231858082.py:54: DeprecationWarning: find_element_by_class_name is deprecated. Please use find_element(by=By.CLASS_NAME, value=name) instead\n",
      "  button_check = driver.find_element_by_class_name(\"EizgU\").text\n",
      "C:\\Users\\revol\\AppData\\Local\\Temp/ipykernel_67800/1231858082.py:63: DeprecationWarning: find_elements_by_class_name is deprecated. Please use find_elements(by=By.CLASS_NAME, value=name) instead\n",
      "  ids = driver.find_elements_by_class_name('sqdOP.yWX7d._8A5w5.ZIAjV')[2:]\n",
      "C:\\Users\\revol\\AppData\\Local\\Temp/ipykernel_67800/1231858082.py:64: DeprecationWarning: find_elements_by_class_name is deprecated. Please use find_elements(by=By.CLASS_NAME, value=name) instead\n",
      "  replies = driver.find_elements_by_class_name('_7UhW9.xLCgt.MMzan.KV-D4.se6yk.T0kll')[1:]\n"
     ]
    },
    {
     "name": "stdout",
     "output_type": "stream",
     "text": [
      "댓글 개수 :  18\n",
      "1번째 게시물의 1번째 댓글/대댓글 : \n",
      " id = ___kiss_o : 내용 : Dkk \n",
      "1번째 게시물의 2번째 댓글/대댓글 : \n",
      " id = ___kiss_o : 내용 : @___kiss_o bbt \n",
      "1번째 게시물의 3번째 댓글/대댓글 : \n",
      " id = ___kiss_o : 내용 : @___kiss_o 2f \n",
      "1번째 게시물의 4번째 댓글/대댓글 : \n",
      " id = ___kiss_o : 내용 : @___kiss_o vh32 \n",
      "1번째 게시물의 5번째 댓글/대댓글 : \n",
      " id = ___kiss_o : 내용 : @___kiss_o xgr2wx \n",
      "1번째 게시물의 6번째 댓글/대댓글 : \n",
      " id = ___kiss_o : 내용 : @___kiss_o fio2o2 \n",
      "1번째 게시물의 7번째 댓글/대댓글 : \n",
      " id = ___kiss_o : 내용 : @___kiss_o ci1p \n",
      "1번째 게시물의 8번째 댓글/대댓글 : \n",
      " id = ___kiss_o : 내용 : @___kiss_o iw19owkfpe2 \n",
      "1번째 게시물의 9번째 댓글/대댓글 : \n",
      " id = ___kiss_o : 내용 : @___kiss_o ko1pelf \n",
      "1번째 게시물의 10번째 댓글/대댓글 : \n",
      " id = ___kiss_o : 내용 : @___kiss_o ve \n",
      "1번째 게시물의 11번째 댓글/대댓글 : \n",
      " id = ___kiss_o : 내용 : @___kiss_o wowof \n",
      "1번째 게시물의 12번째 댓글/대댓글 : \n",
      " id = ___kiss_o : 내용 : @___kiss_o 1owokff \n",
      "1번째 게시물의 13번째 댓글/대댓글 : \n",
      " id = ___kiss_o : 내용 : . \n",
      "1번째 게시물의 14번째 댓글/대댓글 : \n",
      " id = ___kiss_o : 내용 : @___kiss_o f.. \n",
      "1번째 게시물의 15번째 댓글/대댓글 : \n",
      " id = ___kiss_o : 내용 : @___kiss_o zs \n",
      "1번째 게시물의 16번째 댓글/대댓글 : \n",
      " id = ___kiss_o : 내용 : @___kiss_o gk \n",
      "1번째 게시물의 17번째 댓글/대댓글 : \n",
      " id = so_young_and_happy_ : 내용 : 갓기수 새해복 많이 바당👏ฅ^•ﻌ•^ฅ \n",
      "1번째 게시물의 18번째 댓글/대댓글 : \n",
      " id = 5mich_r : 내용 : 잼기 화이팅 \n",
      "------------2번째 게시물은 2021-12-26T13:53:36.000Z에 올라갔습니다.------------\n",
      "-------------------2번째 게시물의 내용은-------------------\n",
      "\"변화의 중심에서 발표의 꽃이 피다\"\n",
      "스프링 45기로 활동할 수 있어서 너무 좋았습니다.\n",
      "스프링 47기 행정팀장으로써 열심히 하겠습니다!\n",
      "다들 고마웠어요\n",
      "#스프링#연합동아리\n",
      "\n",
      "해시태그는 :   스프링 연합동아리\n",
      "댓글 개수 :  17\n",
      "2번째 게시물의 1번째 댓글/대댓글 : \n",
      " id = urealllll : 내용 : 포브스 선정_에이스라는 단어가 가장 잘어울리는 남자 \n",
      "2번째 게시물의 2번째 댓글/대댓글 : \n",
      " id = yeharina : 내용 : 멋지다😂 \n",
      "2번째 게시물의 3번째 댓글/대댓글 : \n",
      " id = stephano_exhibition : 내용 : ❤️ \n",
      "2번째 게시물의 4번째 댓글/대댓글 : \n",
      " id = cs_huhu : 내용 : 개근에 우수수료 힙하다진짜 -겨우수료자 \n",
      "2번째 게시물의 5번째 댓글/대댓글 : \n",
      " id = sseungyo : 내용 : @cs_huhu 겨우수료잨ㅋㅋㅋㅋㅋㅋㅋㅋㅋㅋㅋㅋ미쳤나봐 \n",
      "2번째 게시물의 6번째 댓글/대댓글 : \n",
      " id = ji.o_ne_ : 내용 : 스프링 사랑해 \n",
      "2번째 게시물의 7번째 댓글/대댓글 : \n",
      " id = juo.n_ : 내용 : 기수야 너가 최고다ㅠㅠ \n",
      "2번째 게시물의 8번째 댓글/대댓글 : \n",
      " id = newis._water : 내용 : 오빠 수고 넘 많았으 ㅠ 운영진도 함께 파이링🔥🔥 \n",
      "2번째 게시물의 9번째 댓글/대댓글 : \n",
      " id = u_g_h2 : 내용 : 왜냐면 기수가 일등임✨ \n",
      "2번째 게시물의 10번째 댓글/대댓글 : \n",
      " id = kimo_year : 내용 : 기수 넘 고생했어 ❤️ 47기도 파이팅 🔥🔥🔥 \n",
      "2번째 게시물의 11번째 댓글/대댓글 : \n",
      " id = chan_yng : 내용 : 크 지려따 🔥🔥 \n",
      "2번째 게시물의 12번째 댓글/대댓글 : \n",
      " id = heejunng : 내용 : 오빠 고생 많았어!! 47기도 같이 화이팅하자구 🔥 \n",
      "2번째 게시물의 13번째 댓글/대댓글 : \n",
      " id = giveme__rae : 내용 : 오빠 덕분에 많이 배울 수있었어!! 함께 해줘서 고마워ㅎㅎ \n",
      "2번째 게시물의 14번째 댓글/대댓글 : \n",
      " id = sseungyo : 내용 : 기수야 고생했어! 우수수료+개근도 축하하고~ 기수가 있으니 47기 아주 빡세겠고만^-^** \n",
      "2번째 게시물의 15번째 댓글/대댓글 : \n",
      " id = jinvely_0228 : 내용 : 오빠 수고했엉❗ \n",
      "2번째 게시물의 16번째 댓글/대댓글 : \n",
      " id = seoye_on02pm : 내용 : 감동이에요❄❄ \n",
      "2번째 게시물의 17번째 댓글/대댓글 : \n",
      " id = springboots : 내용 : 와. .... 감동쓰 \n",
      "------------3번째 게시물은 2021-10-13T13:22:11.000Z에 올라갔습니다.------------\n",
      "-------------------3번째 게시물의 내용은-------------------\n",
      "View가 미쳤네\n",
      "\n",
      "해시태그는 :  \n",
      "댓글 개수 :  1\n",
      "3번째 게시물의 1번째 댓글/대댓글 : \n",
      " id = janghyoyoung : 내용 : Kisoo도 멋져❤️ \n",
      "------------4번째 게시물은 2021-09-26T11:56:53.000Z에 올라갔습니다.------------\n",
      "-------------------4번째 게시물의 내용은-------------------\n",
      "Steal the Apple!\n",
      "\n",
      "해시태그는 :  \n",
      "댓글 개수 :  0\n",
      "------------5번째 게시물은 2021-09-04T13:35:07.000Z에 올라갔습니다.------------\n",
      "-------------------5번째 게시물의 내용은-------------------\n",
      "☆ 일주일동안 고생한 흔적들 ☆\n",
      "새벽까지 영혼을 갈아넣었던 일주일\n",
      "@02_12.03 @ji_wo_on2 @cs_huhu\n",
      "@kka_hye1 @zoo.305 @경태\n",
      "멘멘조 발표준비하느라 고생했어유!!\n",
      "#스프링#발표동아리\n",
      "\n",
      "해시태그는 :   스프링 발표동아리\n",
      "댓글 개수 :  6\n",
      "5번째 게시물의 1번째 댓글/대댓글 : \n",
      " id = newis._water : 내용 : 오빠 수고했어유🔥🔥👍👍 \n",
      "5번째 게시물의 2번째 댓글/대댓글 : \n",
      " id = stephano_exhibition : 내용 : 스프링=믹서기 킹정입니다 \n",
      "5번째 게시물의 3번째 댓글/대댓글 : \n",
      " id = junho_99 : 내용 : 정신없어서 인사도 제대로 못했네요! 오늘 아차상 축하드립니다👏👏 \n",
      "5번째 게시물의 4번째 댓글/대댓글 : \n",
      " id = ohyu_ya : 내용 : 열심히 준비한게 많이 보였었다!!🔥🔥🔥 \n",
      "5번째 게시물의 5번째 댓글/대댓글 : \n",
      " id = ji.o_ne_ : 내용 : 나도 게시물 올릴껄! \n",
      "5번째 게시물의 6번째 댓글/대댓글 : \n",
      " id = kimjaeyoonn : 내용 : 🔥🔥🔥 \n",
      "------------6번째 게시물은 2021-08-22T08:49:12.000Z에 올라갔습니다.------------\n",
      "-------------------6번째 게시물의 내용은-------------------\n",
      "☆7주간의 변화, 드디어 끝☆\n",
      "@fit.gorilla @gorillamultigym05\n",
      "#다이어트#끝#일상\n",
      "\n",
      "해시태그는 :   다이어트 끝 일상\n",
      "댓글 개수 :  4\n",
      "6번째 게시물의 1번째 댓글/대댓글 : \n",
      " id = so_young_and_happy_ : 내용 : 멋진녀석 \n",
      "6번째 게시물의 2번째 댓글/대댓글 : \n",
      " id = 5mich_r : 내용 : HolyMoly \n",
      "6번째 게시물의 3번째 댓글/대댓글 : \n",
      " id = semn_e : 내용 : 👏👏대단 \n",
      "6번째 게시물의 4번째 댓글/대댓글 : \n",
      " id = dingureeee : 내용 : 진ㅉㅏ 대단한 녀석 \n",
      "------------7번째 게시물은 2021-06-19T07:08:14.000Z에 올라갔습니다.------------\n",
      "-------------------7번째 게시물의 내용은-------------------\n",
      "그냥\n",
      "\n",
      "해시태그는 :  \n",
      "댓글 개수 :  0\n",
      "------------8번째 게시물은 2021-06-12T02:32:40.000Z에 올라갔습니다.------------\n",
      "-------------------8번째 게시물의 내용은-------------------\n",
      "😀😀😀😀😀😀😀😀⚽️🏫\n",
      "#23#휴학#곧복학#daily\n",
      "\n",
      "해시태그는 :   23 휴학 곧복학 daily\n",
      "댓글 개수 :  2\n",
      "8번째 게시물의 1번째 댓글/대댓글 : \n",
      " id = perarduaadastra__ : 내용 : 민초는 인정이지 민초만세‼️‼️‼️‼️‼️‼️‼️ \n",
      "8번째 게시물의 2번째 댓글/대댓글 : \n",
      " id = ___kiss_o : 내용 : @perarduaadastra__ 사줘 \n",
      "------------9번째 게시물은 2021-05-14T08:07:09.000Z에 올라갔습니다.------------\n",
      "-------------------9번째 게시물의 내용은-------------------\n",
      "맛있는 거\n",
      "#광운대#23#18#맛집#화로상회#석계\n",
      "\n",
      "해시태그는 :   광운대 23 18 맛집 화로상회 석계\n",
      "댓글 개수 :  6\n",
      "9번째 게시물의 1번째 댓글/대댓글 : \n",
      " id = 99_sksmssk : 내용 : 오옹 화로상회 울집 근처인딩 \n",
      "9번째 게시물의 2번째 댓글/대댓글 : \n",
      " id = rararu__ : 내용 : 우리 집 개 밥주게 담아놔라 \n",
      "9번째 게시물의 3번째 댓글/대댓글 : \n",
      " id = jun_hkkk : 내용 : 야 이 맛있는 것들을 이렇게 음식물 쓰레기처럼 !!!!!!!🙌🙌🙌 \n",
      "9번째 게시물의 4번째 댓글/대댓글 : \n",
      " id = so_young_and_happy_ : 내용 : 기수도 못하는게 있구나.. 음식사진찍ㄱ.. \n",
      "9번째 게시물의 5번째 댓글/대댓글 : \n",
      " id = perarduaadastra__ : 내용 : 진짜 맛집 다가네 \n",
      "9번째 게시물의 6번째 댓글/대댓글 : \n",
      " id = janghyoyoung : 내용 : 카메라 고장났냐 \n",
      "------------10번째 게시물은 2021-04-23T01:24:42.000Z에 올라갔습니다.------------\n",
      "-------------------10번째 게시물의 내용은-------------------\n",
      "2021년 첫 번째 목표 자격증 취득 성공!!\n",
      "#자격증#성공\n",
      "\n",
      "해시태그는 :   자격증 성공\n",
      "댓글 개수 :  4\n",
      "10번째 게시물의 1번째 댓글/대댓글 : \n",
      " id = 98_nyeon : 내용 : 올❤️ \n",
      "10번째 게시물의 2번째 댓글/대댓글 : \n",
      " id = ___kiss_o : 내용 : @98_nyeon 알라뷰 \n",
      "10번째 게시물의 3번째 댓글/대댓글 : \n",
      " id = chanhyun_e : 내용 : 멋있따 \n",
      "10번째 게시물의 4번째 댓글/대댓글 : \n",
      " id = cklgis : 내용 : !짱! \n",
      "------------11번째 게시물은 2021-03-07T00:52:57.000Z에 올라갔습니다.------------\n",
      "-------------------11번째 게시물의 내용은-------------------\n",
      "2019.10.15 ~ 2021.03.07\n",
      "적토마 중대 조교로 활동할 수 있어서 좋았습니다. 좋은 선임, 후임, 간부님들을 통해서 많이 배웠고 더 좋은 사람이 되겠습니다. 군생활 내내 힘들 점도 있었지만 좋은 기억도 많았던 것 같습니다. 후임들은 좀만 더 버텨서 잘 전역하고 간부님들도 전역하는 그 순간까지 응원하겠습니다. 감사합니다.\n",
      "#전역\n",
      "\n",
      "해시태그는 :   전역\n"
     ]
    }
   ],
   "source": [
    "time.sleep(1)\n",
    "post_content_button = 'body > div.RnEpo._Yhr4 > div.pbNvD.QZZGH.bW6vo > div > article > div > div.HP0qD > div > div > div.eo2As > div.EtaWk > ul > div > li > div > div > div.C4VMK > div.MOdxS > span'\n",
    "try:    \n",
    "    driver.find_element(By.CSS_SELECTOR, '#react-root > div > div > section > main > div > div._2z6nI > article > div > div > div:nth-child(1) > div:nth-child(1) > a > div.eLAPa > div._9AhH0').click()\n",
    "    time.sleep(3)\n",
    "except:\n",
    "    print('이미 열려 있습니다.')\n",
    "    \n",
    "total_post = driver.find_element(By.CSS_SELECTOR, 'ul.k9GMp > li > div > span').text\n",
    "time.sleep(2)\n",
    "for i in range(int(total_post)):\n",
    "    time.sleep(2)\n",
    "    try:\n",
    "        date_object = driver.find_element(By.CSS_SELECTOR, 'time._1o9PC').get_attribute('datetime')\n",
    "        time.sleep(0.77)\n",
    "    except:\n",
    "        print('날짜 정보 없음')\n",
    "    \n",
    "    try:\n",
    "        post_content = driver.find_element(By.CSS_SELECTOR, 'div.MOdxS > span').text\n",
    "        time.sleep(0.77)\n",
    "        print(\"------------{0}번째 게시물은 {1}에 올라갔습니다.------------\".format(i+1, date_object))\n",
    "        print(\"-------------------{0}번째 게시물의 내용은-------------------\\n{1}\\n\".format(i+1, post_content))\n",
    "    except:\n",
    "        print('정보 없음')\n",
    "        \n",
    "    if post_content != None :\n",
    "        post_content_tag= []\n",
    "        post_content = re.findall(\"#[A-Za-z0-9가-힣]+\", post_content)\n",
    "        hashtag = ''.join(post_content).replace(\"#\",\" \") # \"# 제거\"\n",
    "        print('해시태그는 : ', hashtag)\n",
    "        \n",
    "    html = driver.page_source\n",
    "    soup = BeautifulSoup(html, 'html.parser')\n",
    "    comment_count = 0\n",
    "\n",
    "    # 댓글 있는지 확인\n",
    "    try  :\n",
    "        ul_list = soup.find_all('ul',  'Mr508')\n",
    "        comment_count = len(ul_list)\n",
    "    except :\n",
    "        # 댓글 없으면\n",
    "        comment_count = 0\n",
    "    else:         \n",
    "        for j in range(1,comment_count+1) :\n",
    "            button_xpath = \"/html/body/div[6]/div[3]/div/article/div/div[2]/div/div/div[2]/div[1]/ul/ul[\" + str(j) + \"]/li/ul/li/div/button\"\n",
    "            try : \n",
    "                # 대댓글 열기버튼 있으면 클릭\n",
    "                driver.find_element_by_xpath(button_xpath).click()\n",
    "                time.sleep(1)\n",
    "                button_check = driver.find_element_by_class_name(\"EizgU\").text\n",
    "                while \"답글 숨기기\" not in button_check : \n",
    "                    driver.find_element_by_xpath(button_xpath).click()\n",
    "                    button_check = driver.find_element_by_class_name(\"EizgU\").text\n",
    "\n",
    "            except :\n",
    "                button_xpath = None\n",
    "            \n",
    "\n",
    "    id_f = []\n",
    "    rp_f = []\n",
    "\n",
    "    ids = driver.find_elements_by_class_name('sqdOP.yWX7d._8A5w5.ZIAjV')[2:]\n",
    "    replies = driver.find_elements_by_class_name('_7UhW9.xLCgt.MMzan.KV-D4.se6yk.T0kll')[1:]\n",
    "    print('댓글 개수 : ', len(ids) if len(ids) == len(replies) else -1)\n",
    "    for h, (id, reply) in enumerate(zip(ids, replies)):\n",
    "        print('{0}번째 게시물의 {1}번째 댓글/대댓글 : \\n id = {2} : 내용 : {3} '.format(i+1, h+1, id.text.strip(), reply.text.strip()))\n",
    "\n",
    "    try:\n",
    "        driver.find_element(By.CSS_SELECTOR, 'body > div.RnEpo._Yhr4 > div.Z2Inc._7c9RR > div > div.l8mY4.feth3 > button').click()\n",
    "    except:\n",
    "        print('다음 거로 넘길 수 없음')\n",
    "    time.sleep(2)"
   ]
  }
 ],
 "metadata": {
  "kernelspec": {
   "display_name": "Python 3 (ipykernel)",
   "language": "python",
   "name": "python3"
  },
  "language_info": {
   "codemirror_mode": {
    "name": "ipython",
    "version": 3
   },
   "file_extension": ".py",
   "mimetype": "text/x-python",
   "name": "python",
   "nbconvert_exporter": "python",
   "pygments_lexer": "ipython3",
   "version": "3.9.7"
  }
 },
 "nbformat": 4,
 "nbformat_minor": 5
}
